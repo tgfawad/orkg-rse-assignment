{
 "cells": [
  {
   "cell_type": "markdown",
   "metadata": {},
   "source": [
    "# Instructions\n",
    "\n",
    "The assignment consists of the following task. \n",
    "\n",
    "Get familiar with the [ORKG API](https://www.orkg.org/orkg/doc/api/) and write the required Python code to retrieve the p-value of the statistical hypothesis test published in the [paper](https://www.orkg.org/orkg/paper/R4059) by Haddad et al. titled \"Iron-regulatory proteins secure iron availability in cardiomyocytes to prevent heart failure\" and display the numerical value as output.\n",
    "\n",
    "Return the assignment with the output visible.\n",
    "\n",
    "Good luck!"
   ]
  },
  {
   "cell_type": "code",
   "execution_count": 1,
   "metadata": {},
   "outputs": [],
   "source": [
    "import requests\n",
    "import json\n",
    "import urllib.request\n",
    "\n",
    "api = 'http://www.orkg.org/orkg/api'\n",
    "\n",
    "# ...\n"
   ]
  },
  {
   "cell_type": "code",
   "execution_count": 2,
   "metadata": {
    "scrolled": true
   },
   "outputs": [
    {
     "name": "stdout",
     "output_type": "stream",
     "text": [
      "1.3111247517411591e-08\n"
     ]
    }
   ],
   "source": [
    "title = 'Iron-regulatory proteins secure iron availability in cardiomyocytes to prevent heart failure'\n",
    "\n",
    "response = requests.get(api + '/resources/?q=' + title)\n",
    "responseData = response.json()\n",
    "\n",
    "rosourceList = list()\n",
    "found = False\n",
    "\n",
    "def getPValue(resourceId):\n",
    "    #if we have found our p-value, we don't need to check any further\n",
    "    global found\n",
    "    if(found):\n",
    "        return\n",
    "    \n",
    "    rosourceList.append(resourceId)\n",
    "    res = requests.get(api + '/statements/subject/' + resourceId)\n",
    "        \n",
    "    if(res.status_code != 200):\n",
    "        return\n",
    "    \n",
    "    data = res.json()\n",
    "    \n",
    "    for item in data:\n",
    "        item_id = item['object']['id']\n",
    "        label = item['predicate']['label']\n",
    "        \n",
    "        #Check if the predicate lable = has specified numeric value\n",
    "        if(label == 'has specified numeric value'):\n",
    "            print(item['object']['label'])\n",
    "            found = True\n",
    "            return item['object']['label']\n",
    "        \n",
    "        #we only need recurive calls for objects of type resource\n",
    "        if(item['object']['_class'] == 'resource'):\n",
    "            if(item_id in rosourceList):\n",
    "                continue\n",
    "            else:\n",
    "                getPValue(item_id)\n",
    "\n",
    "for item in responseData:\n",
    "    resourceId = item['id']\n",
    "    getPValue(resourceId)\n",
    "    \n"
   ]
  }
 ],
 "metadata": {
  "kernelspec": {
   "display_name": "Python 3",
   "language": "python",
   "name": "python3"
  },
  "language_info": {
   "codemirror_mode": {
    "name": "ipython",
    "version": 3
   },
   "file_extension": ".py",
   "mimetype": "text/x-python",
   "name": "python",
   "nbconvert_exporter": "python",
   "pygments_lexer": "ipython3",
   "version": "3.7.4"
  }
 },
 "nbformat": 4,
 "nbformat_minor": 4
}
